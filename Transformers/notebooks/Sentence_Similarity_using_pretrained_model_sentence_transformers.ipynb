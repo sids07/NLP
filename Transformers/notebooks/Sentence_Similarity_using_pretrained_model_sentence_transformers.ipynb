{
  "nbformat": 4,
  "nbformat_minor": 0,
  "metadata": {
    "colab": {
      "name": "Sentence Similarity.ipynb",
      "provenance": []
    },
    "kernelspec": {
      "name": "python3",
      "display_name": "Python 3"
    },
    "language_info": {
      "name": "python"
    }
  },
  "cells": [
    {
      "cell_type": "code",
      "metadata": {
        "colab": {
          "base_uri": "https://localhost:8080/"
        },
        "id": "KoSdmMAv2yWe",
        "outputId": "1b217274-8efd-407b-e82b-4a23e4681adf"
      },
      "source": [
        "pip install -U sentence-transformers"
      ],
      "execution_count": null,
      "outputs": [
        {
          "output_type": "stream",
          "name": "stdout",
          "text": [
            "Collecting sentence-transformers\n",
            "  Downloading sentence-transformers-2.0.0.tar.gz (85 kB)\n",
            "\u001b[K     |████████████████████████████████| 85 kB 3.7 MB/s \n",
            "\u001b[?25hCollecting transformers<5.0.0,>=4.6.0\n",
            "  Downloading transformers-4.10.2-py3-none-any.whl (2.8 MB)\n",
            "\u001b[K     |████████████████████████████████| 2.8 MB 30.0 MB/s \n",
            "\u001b[?25hRequirement already satisfied: tqdm in /usr/local/lib/python3.7/dist-packages (from sentence-transformers) (4.62.0)\n",
            "Requirement already satisfied: torch>=1.6.0 in /usr/local/lib/python3.7/dist-packages (from sentence-transformers) (1.9.0+cu102)\n",
            "Requirement already satisfied: torchvision in /usr/local/lib/python3.7/dist-packages (from sentence-transformers) (0.10.0+cu102)\n",
            "Requirement already satisfied: numpy in /usr/local/lib/python3.7/dist-packages (from sentence-transformers) (1.19.5)\n",
            "Requirement already satisfied: scikit-learn in /usr/local/lib/python3.7/dist-packages (from sentence-transformers) (0.22.2.post1)\n",
            "Requirement already satisfied: scipy in /usr/local/lib/python3.7/dist-packages (from sentence-transformers) (1.4.1)\n",
            "Requirement already satisfied: nltk in /usr/local/lib/python3.7/dist-packages (from sentence-transformers) (3.2.5)\n",
            "Collecting sentencepiece\n",
            "  Downloading sentencepiece-0.1.96-cp37-cp37m-manylinux_2_17_x86_64.manylinux2014_x86_64.whl (1.2 MB)\n",
            "\u001b[K     |████████████████████████████████| 1.2 MB 47.7 MB/s \n",
            "\u001b[?25hCollecting huggingface-hub\n",
            "  Downloading huggingface_hub-0.0.17-py3-none-any.whl (52 kB)\n",
            "\u001b[K     |████████████████████████████████| 52 kB 1.6 MB/s \n",
            "\u001b[?25hRequirement already satisfied: typing-extensions in /usr/local/lib/python3.7/dist-packages (from torch>=1.6.0->sentence-transformers) (3.7.4.3)\n",
            "Requirement already satisfied: importlib-metadata in /usr/local/lib/python3.7/dist-packages (from transformers<5.0.0,>=4.6.0->sentence-transformers) (4.6.4)\n",
            "Collecting tokenizers<0.11,>=0.10.1\n",
            "  Downloading tokenizers-0.10.3-cp37-cp37m-manylinux_2_5_x86_64.manylinux1_x86_64.manylinux_2_12_x86_64.manylinux2010_x86_64.whl (3.3 MB)\n",
            "\u001b[K     |████████████████████████████████| 3.3 MB 43.5 MB/s \n",
            "\u001b[?25hRequirement already satisfied: regex!=2019.12.17 in /usr/local/lib/python3.7/dist-packages (from transformers<5.0.0,>=4.6.0->sentence-transformers) (2019.12.20)\n",
            "Collecting sacremoses\n",
            "  Downloading sacremoses-0.0.45-py3-none-any.whl (895 kB)\n",
            "\u001b[K     |████████████████████████████████| 895 kB 46.1 MB/s \n",
            "\u001b[?25hCollecting pyyaml>=5.1\n",
            "  Downloading PyYAML-5.4.1-cp37-cp37m-manylinux1_x86_64.whl (636 kB)\n",
            "\u001b[K     |████████████████████████████████| 636 kB 43.0 MB/s \n",
            "\u001b[?25hRequirement already satisfied: packaging in /usr/local/lib/python3.7/dist-packages (from transformers<5.0.0,>=4.6.0->sentence-transformers) (21.0)\n",
            "Requirement already satisfied: requests in /usr/local/lib/python3.7/dist-packages (from transformers<5.0.0,>=4.6.0->sentence-transformers) (2.23.0)\n",
            "Requirement already satisfied: filelock in /usr/local/lib/python3.7/dist-packages (from transformers<5.0.0,>=4.6.0->sentence-transformers) (3.0.12)\n",
            "Requirement already satisfied: pyparsing>=2.0.2 in /usr/local/lib/python3.7/dist-packages (from packaging->transformers<5.0.0,>=4.6.0->sentence-transformers) (2.4.7)\n",
            "Requirement already satisfied: zipp>=0.5 in /usr/local/lib/python3.7/dist-packages (from importlib-metadata->transformers<5.0.0,>=4.6.0->sentence-transformers) (3.5.0)\n",
            "Requirement already satisfied: six in /usr/local/lib/python3.7/dist-packages (from nltk->sentence-transformers) (1.15.0)\n",
            "Requirement already satisfied: certifi>=2017.4.17 in /usr/local/lib/python3.7/dist-packages (from requests->transformers<5.0.0,>=4.6.0->sentence-transformers) (2021.5.30)\n",
            "Requirement already satisfied: idna<3,>=2.5 in /usr/local/lib/python3.7/dist-packages (from requests->transformers<5.0.0,>=4.6.0->sentence-transformers) (2.10)\n",
            "Requirement already satisfied: chardet<4,>=3.0.2 in /usr/local/lib/python3.7/dist-packages (from requests->transformers<5.0.0,>=4.6.0->sentence-transformers) (3.0.4)\n",
            "Requirement already satisfied: urllib3!=1.25.0,!=1.25.1,<1.26,>=1.21.1 in /usr/local/lib/python3.7/dist-packages (from requests->transformers<5.0.0,>=4.6.0->sentence-transformers) (1.24.3)\n",
            "Requirement already satisfied: joblib in /usr/local/lib/python3.7/dist-packages (from sacremoses->transformers<5.0.0,>=4.6.0->sentence-transformers) (1.0.1)\n",
            "Requirement already satisfied: click in /usr/local/lib/python3.7/dist-packages (from sacremoses->transformers<5.0.0,>=4.6.0->sentence-transformers) (7.1.2)\n",
            "Requirement already satisfied: pillow>=5.3.0 in /usr/local/lib/python3.7/dist-packages (from torchvision->sentence-transformers) (7.1.2)\n",
            "Building wheels for collected packages: sentence-transformers\n",
            "  Building wheel for sentence-transformers (setup.py) ... \u001b[?25l\u001b[?25hdone\n",
            "  Created wheel for sentence-transformers: filename=sentence_transformers-2.0.0-py3-none-any.whl size=126710 sha256=bc4ff9558ea8843af2580369c2b185ff0ab31bc4b4a9458de23f3dbd00a5cb2b\n",
            "  Stored in directory: /root/.cache/pip/wheels/d1/c1/0f/faafd427f705c4b012274ba60d9a91d75830306811e1355293\n",
            "Successfully built sentence-transformers\n",
            "Installing collected packages: tokenizers, sacremoses, pyyaml, huggingface-hub, transformers, sentencepiece, sentence-transformers\n",
            "  Attempting uninstall: pyyaml\n",
            "    Found existing installation: PyYAML 3.13\n",
            "    Uninstalling PyYAML-3.13:\n",
            "      Successfully uninstalled PyYAML-3.13\n",
            "Successfully installed huggingface-hub-0.0.17 pyyaml-5.4.1 sacremoses-0.0.45 sentence-transformers-2.0.0 sentencepiece-0.1.96 tokenizers-0.10.3 transformers-4.10.2\n"
          ]
        }
      ]
    },
    {
      "cell_type": "code",
      "metadata": {
        "id": "KBAJyQxgSXc-"
      },
      "source": [
        "from sentence_transformers import SentenceTransformer"
      ],
      "execution_count": null,
      "outputs": []
    },
    {
      "cell_type": "markdown",
      "metadata": {
        "id": "4erEMP3XSb5E"
      },
      "source": [
        "### sentences = ['My credit card keeps getting declined','My name is Siddhartha','are you travelling to kathmandu?']\n",
        "\n",
        "### query = ['why my credit card always declined','i am frustated, my credit card is declining','I heard your name is siddhartha', 'They said you are Siddhartha', 'I love doing sports.', 'I'm traveling to Kathmandu.', 'Siddhartha is traveling to Kathmandu.']\n"
      ]
    },
    {
      "cell_type": "code",
      "metadata": {
        "id": "W0xmsGiESjGP"
      },
      "source": [
        "import scipy"
      ],
      "execution_count": null,
      "outputs": []
    },
    {
      "cell_type": "code",
      "metadata": {
        "id": "KwdE_9se37aU"
      },
      "source": [
        "model = SentenceTransformer('/content/drive/MyDrive/sentence similaritydccuchile-bert-base-spanish-wwm-cased-2021-09-16_06-58-50')"
      ],
      "execution_count": null,
      "outputs": []
    },
    {
      "cell_type": "code",
      "metadata": {
        "colab": {
          "base_uri": "https://localhost:8080/"
        },
        "id": "S63dYcvp3-7z",
        "outputId": "8fde3c3c-27b6-4dd3-8ed4-45df2d7b7e5c"
      },
      "source": [
        "sentences = [\"Mi tarjeta de crédito sigue siendo rechazada\",\"mi nombre es Siddhartha\",\"¿viajas a kathmandu?\"]\n",
        "\n",
        "sentence_embeddings = model.encode(sentences)\n",
        "print(sentence_embeddings)\n"
      ],
      "execution_count": null,
      "outputs": [
        {
          "output_type": "stream",
          "name": "stdout",
          "text": [
            "[[-0.4248203  -0.04007759 -0.11478171 ... -1.6340594  -0.5872906\n",
            "   1.4591374 ]\n",
            " [-0.26081175 -0.6888043  -0.00603448 ... -0.18238701 -0.4568976\n",
            "   0.9363467 ]\n",
            " [-1.0143832  -0.14042018 -0.322978   ...  0.49780977 -0.3989648\n",
            "   0.27396184]]\n"
          ]
        }
      ]
    },
    {
      "cell_type": "code",
      "metadata": {
        "colab": {
          "base_uri": "https://localhost:8080/"
        },
        "id": "VC7vXWFO440b",
        "outputId": "1a5a2e60-2523-4f37-8b65-262bda63a765"
      },
      "source": [
        "queries = ['por qué mi tarjeta de crédito siempre se rechazó','Estoy frustrada, mi tarjeta de crédito está disminuyendo','¿Cómo puedo verificar mi puntaje crédito?','escuché que tu nombre es siddhartha','Ellas dijeron que eres Siddhartha','Amo hacer deporte.','Viajo a Kathmandú.','Siddhartha viaja a Katmandú.']\n",
        "query_embeddings = model.encode(queries)\n",
        "\n",
        "for query, query_embedding in zip(queries, query_embeddings):\n",
        "    distances = scipy.spatial.distance.cdist([query_embedding], sentence_embeddings, \"cosine\")[0]\n",
        "    results = zip(range(len(distances)), distances)\n",
        "    results = sorted(results, key=lambda x: x[1])\n",
        "    final_result = {}\n",
        "\n",
        "    for index, distance in results:\n",
        "        sentence = sentences[index].strip()\n",
        "        score = 1 - distance\n",
        "        final_result[sentence] = score\n",
        "    print(final_result)\n"
      ],
      "execution_count": null,
      "outputs": [
        {
          "output_type": "stream",
          "name": "stdout",
          "text": [
            "{'Mi tarjeta de crédito sigue siendo rechazada': 0.7054091977030127, 'mi nombre es Siddhartha': 0.1793876691163917, '¿viajas a kathmandu?': 0.07633993049142163}\n",
            "{'Mi tarjeta de crédito sigue siendo rechazada': 0.7279586268691856, 'mi nombre es Siddhartha': 0.22399259226180956, '¿viajas a kathmandu?': 0.03788835659463907}\n",
            "{'Mi tarjeta de crédito sigue siendo rechazada': 0.38325789522056297, 'mi nombre es Siddhartha': 0.12876960951007965, '¿viajas a kathmandu?': 0.08252255795648944}\n",
            "{'mi nombre es Siddhartha': 0.7912700592356047, '¿viajas a kathmandu?': 0.3860766430227439, 'Mi tarjeta de crédito sigue siendo rechazada': 0.04296108129430265}\n",
            "{'mi nombre es Siddhartha': 0.743372832305824, '¿viajas a kathmandu?': 0.3468786395865391, 'Mi tarjeta de crédito sigue siendo rechazada': 0.10784411345345701}\n",
            "{'¿viajas a kathmandu?': 0.16227890220390317, 'mi nombre es Siddhartha': 0.1201195806587878, 'Mi tarjeta de crédito sigue siendo rechazada': 0.07902815450807155}\n",
            "{'¿viajas a kathmandu?': 0.8232840087330114, 'mi nombre es Siddhartha': 0.3805481967190456, 'Mi tarjeta de crédito sigue siendo rechazada': 0.031360248174128524}\n",
            "{'mi nombre es Siddhartha': 0.6890153254135978, '¿viajas a kathmandu?': 0.568188539384364, 'Mi tarjeta de crédito sigue siendo rechazada': 0.01342428966005238}\n"
          ]
        }
      ]
    },
    {
      "cell_type": "markdown",
      "metadata": {
        "id": "5bLFhYoV9gA1"
      },
      "source": [
        "## RESULT:\n",
        "### sentence-transformers/paraphrase-xlm-r-multilingual-v1\n",
        "\n",
        "```\n",
        "{'mi nombre es Siddhartha': 0.8841788930112915, '¿viajas a kathmandu?': 0.21520963587708763}\n",
        "{'mi nombre es Siddhartha': 0.7043299221493369, '¿viajas a kathmandu?': 0.21033417971878943}\n",
        "{'mi nombre es Siddhartha': 0.08959153601784986, '¿viajas a kathmandu?': 0.07748925475391633}\n",
        "{'¿viajas a kathmandu?': 0.7793706392804475, 'mi nombre es Siddhartha': 0.2765772084060365}\n",
        "{'¿viajas a kathmandu?': 0.5869725777148784, 'mi nombre es Siddhartha': 0.5765077749947978}\n",
        "\n",
        "```\n",
        "\n",
        "### eduardofv/stsb-m-mt-es-distilbert-base-uncased\n",
        "```\n",
        "{'mi nombre es Siddhartha': 0.7550557642220903, '¿viajas a kathmandu?': 0.30429166318911116}\n",
        "{'mi nombre es Siddhartha': 0.4457242072704679, '¿viajas a kathmandu?': 0.18186683026756767}\n",
        "{'¿viajas a kathmandu?': 0.039217483382788076, 'mi nombre es Siddhartha': -0.011371405335374174}\n",
        "{'¿viajas a kathmandu?': 0.7971730304666075, 'mi nombre es Siddhartha': 0.33877733602675897}\n",
        "{'mi nombre es Siddhartha': 0.5571181269880243, '¿viajas a kathmandu?': 0.21903459355727595}\n",
        "```\n",
        "\n",
        "### sentence-transformers/paraphrase-multilingual-mpnet-base-v2\n",
        "\n",
        "```\n",
        "{'mi nombre es Siddhartha': 0.821141086170597, '¿viajas a kathmandu?': 0.34067320752544683}\n",
        "{'mi nombre es Siddhartha': 0.6867697968270741, '¿viajas a kathmandu?': 0.31423327801050205}\n",
        "{'mi nombre es Siddhartha': 0.20755800730684104, '¿viajas a kathmandu?': 0.14336938649687392}\n",
        "{'¿viajas a kathmandu?': 0.736837086633383, 'mi nombre es Siddhartha': 0.3211709648116955}\n",
        "{'¿viajas a kathmandu?': 0.6315233745203006, 'mi nombre es Siddhartha': 0.592501469994052}\n",
        "\n",
        "```\n",
        "### eduardofv/stsb-m-mt-es-distiluse-base-multilingual-cased-v1\n",
        "\n",
        "```\n",
        "{'mi nombre es Siddhartha': 0.6061239613598909, '¿viajas a kathmandu?': 0.2549994235523001}\n",
        "{'mi nombre es Siddhartha': 0.5522122672867742, '¿viajas a kathmandu?': 0.18948058047202698}\n",
        "{'mi nombre es Siddhartha': 0.06454875405802263, '¿viajas a kathmandu?': 0.029146111778835526}\n",
        "{'¿viajas a kathmandu?': 0.7424296519170323, 'mi nombre es Siddhartha': 0.2281186243401082}\n",
        "{'¿viajas a kathmandu?': 0.7134383421188408, 'mi nombre es Siddhartha': 0.4304715146657089}\n",
        "```\n",
        "\n",
        "### AIDA-UPM/mstsb-paraphrase-multilingual-mpnet-base-v2\n",
        "```\n",
        "{'mi nombre es Siddhartha': 0.7809966176633184, '¿viajas a kathmandu?': 0.22969637782068486}\n",
        "{'mi nombre es Siddhartha': 0.649766990875319, '¿viajas a kathmandu?': 0.1835238903785703}\n",
        "{'mi nombre es Siddhartha': 0.18810696076866507, '¿viajas a kathmandu?': -0.010616560695492216}\n",
        "{'¿viajas a kathmandu?': 0.7749267742694694, 'mi nombre es Siddhartha': 0.21033863648502538}\n",
        "{'¿viajas a kathmandu?': 0.5699549293503218, 'mi nombre es Siddhartha': 0.5187752257441611}\n",
        "```\n",
        "### sadakmed/distiluse-base-multilingual-cased-v2\n",
        "\n",
        "```\n",
        "{'mi nombre es Siddhartha': 0.6619942683479897, '¿viajas a kathmandu?': 0.236331294034257}\n",
        "{'mi nombre es Siddhartha': 0.4899984975516509, '¿viajas a kathmandu?': 0.24828038894824267}\n",
        "{'mi nombre es Siddhartha': 0.1542761957001504, '¿viajas a kathmandu?': 0.06574957657988845}\n",
        "{'¿viajas a kathmandu?': 0.7482614491528481, 'mi nombre es Siddhartha': 0.17175418752134242}\n",
        "{'¿viajas a kathmandu?': 0.6632177129510479, 'mi nombre es Siddhartha': 0.37168611539173924}\n",
        "\n",
        "```\n",
        "\n",
        "### sentence-transformers/clip-ViT-B-32-multilingual-v1\n",
        "```\n",
        "{'mi nombre es Siddhartha': 0.9702105577183607, '¿viajas a kathmandu?': 0.8320110750648422}\n",
        "{'mi nombre es Siddhartha': 0.9649975495335718, '¿viajas a kathmandu?': 0.8373860392497939}\n",
        "{'mi nombre es Siddhartha': 0.8432213858910055, '¿viajas a kathmandu?': 0.7463534396687266}\n",
        "{'¿viajas a kathmandu?': 0.9556494377637379, 'mi nombre es Siddhartha': 0.7974638293480517}\n",
        "{'¿viajas a kathmandu?': 0.9308809048865065, 'mi nombre es Siddhartha': 0.8587559597280779}\n",
        "```\n",
        "\n",
        "### sentence-transformers/msmarco-distilbert-multilingual-en-de-v2-tmp-trained-scratch\n",
        "```\n",
        "{'mi nombre es Siddhartha': 0.6574703233654777, '¿viajas a kathmandu?': 0.20973654853625745}\n",
        "{'mi nombre es Siddhartha': 0.4772926566253315, '¿viajas a kathmandu?': 0.16021657592849126}\n",
        "{'¿viajas a kathmandu?': 0.1315622847563973, 'mi nombre es Siddhartha': 0.06463562732583394}\n",
        "{'¿viajas a kathmandu?': 0.7857773040485271, 'mi nombre es Siddhartha': 0.2711520724575024}\n",
        "{'¿viajas a kathmandu?': 0.7414526054188497, 'mi nombre es Siddhartha': 0.4243715511103384}\n",
        "```\n",
        "\n",
        "### sentence-transformers/quora-distilbert-multilingual\n",
        "```\n",
        "{'mi nombre es Siddhartha': 0.9731625991178159, '¿viajas a kathmandu?': 0.8035708918607014}\n",
        "{'mi nombre es Siddhartha': 0.9658999172538468, '¿viajas a kathmandu?': 0.7674040257185382}\n",
        "{'¿viajas a kathmandu?': 0.7195105825692507, 'mi nombre es Siddhartha': 0.6202774090262688}\n",
        "{'¿viajas a kathmandu?': 0.9826683067836659, 'mi nombre es Siddhartha': 0.768804839198497}\n",
        "{'¿viajas a kathmandu?': 0.921661888046722, 'mi nombre es Siddhartha': 0.901087240770954}\n",
        "```\n",
        "\n",
        "### sentence-transformers/distilbert-multilingual-nli-stsb-quora-ranking\n",
        "```\n",
        "{'mi nombre es Siddhartha': 0.9731625991178159, '¿viajas a kathmandu?': 0.8035708918607014}\n",
        "{'mi nombre es Siddhartha': 0.9658999172538468, '¿viajas a kathmandu?': 0.7674040257185382}\n",
        "{'¿viajas a kathmandu?': 0.7195105825692507, 'mi nombre es Siddhartha': 0.6202774090262688}\n",
        "{'¿viajas a kathmandu?': 0.9826683067836659, 'mi nombre es Siddhartha': 0.768804839198497}\n",
        "{'¿viajas a kathmandu?': 0.921661888046722, 'mi nombre es Siddhartha': 0.901087240770954}\n",
        "```\n",
        "\n",
        "### sentence-transformers/distiluse-base-multilingual-cased-v1\n",
        "```\n",
        "{'mi nombre es Siddhartha': 0.6861464323964857, '¿viajas a kathmandu?': 0.26347916255940185}\n",
        "{'mi nombre es Siddhartha': 0.48453536165788225, '¿viajas a kathmandu?': 0.2528047202748186}\n",
        "{'mi nombre es Siddhartha': 0.19734204293536717, '¿viajas a kathmandu?': 0.04876264527704266}\n",
        "{'¿viajas a kathmandu?': 0.7324774400889655, 'mi nombre es Siddhartha': 0.19970186115533084}\n",
        "{'¿viajas a kathmandu?': 0.6424571377259051, 'mi nombre es Siddhartha': 0.37255937094120917}\n",
        "\n",
        "```\n",
        "### sentence-transformers/distiluse-base-multilingual-cased\n",
        "```\n",
        "{'mi nombre es Siddhartha': 0.6833193129392533, '¿viajas a kathmandu?': 0.33820207527993706}\n",
        "{'mi nombre es Siddhartha': 0.5047995976629387, '¿viajas a kathmandu?': 0.3081375089681875}\n",
        "{'mi nombre es Siddhartha': 0.24923546688972675, '¿viajas a kathmandu?': 0.049803182813077496}\n",
        "{'¿viajas a kathmandu?': 0.7622147888095671, 'mi nombre es Siddhartha': 0.3059538610330248}\n",
        "{'¿viajas a kathmandu?': 0.6447321732993441, 'mi nombre es Siddhartha': 0.4110897308521586}\n",
        "```\n",
        "\n",
        "### sentence-transformers/distiluse-base-multilingual-cased-v2\n",
        "```\n",
        "{'mi nombre es Siddhartha': 0.6833193129392533, '¿viajas a kathmandu?': 0.33820207527993706}\n",
        "{'mi nombre es Siddhartha': 0.5047995976629387, '¿viajas a kathmandu?': 0.3081375089681875}\n",
        "{'mi nombre es Siddhartha': 0.24923546688972675, '¿viajas a kathmandu?': 0.049803182813077496}\n",
        "{'¿viajas a kathmandu?': 0.7622147888095671, 'mi nombre es Siddhartha': 0.3059538610330248}\n",
        "{'¿viajas a kathmandu?': 0.6447321732993441, 'mi nombre es Siddhartha': 0.4110897308521586}\n",
        "```\n",
        "### sentence-transformers/stsb-xlm-r-multilingual\n",
        "```\n",
        "{'mi nombre es Siddhartha': 0.8871608416898725, '¿viajas a kathmandu?': 0.34062167650829256}\n",
        "{'mi nombre es Siddhartha': 0.894629867542914, '¿viajas a kathmandu?': 0.36686346031701744}\n",
        "{'mi nombre es Siddhartha': 0.09988280935916005, '¿viajas a kathmandu?': -0.03995980914690733}\n",
        "{'¿viajas a kathmandu?': 0.8707646307012669, 'mi nombre es Siddhartha': 0.42623741555403005}\n",
        "{'¿viajas a kathmandu?': 0.7738733517336679, 'mi nombre es Siddhartha': 0.6061403622461706}\n",
        "```\n",
        "### sentence-transformers/xlm-r-100langs-bert-base-nli-stsb-mean-tokens\n",
        "```\n",
        "{'mi nombre es Siddhartha': 0.8871608416898725, '¿viajas a kathmandu?': 0.34062167650829256}\n",
        "{'mi nombre es Siddhartha': 0.894629867542914, '¿viajas a kathmandu?': 0.36686346031701744}\n",
        "{'mi nombre es Siddhartha': 0.09988280935916005, '¿viajas a kathmandu?': -0.03995980914690733}\n",
        "{'¿viajas a kathmandu?': 0.8707646307012669, 'mi nombre es Siddhartha': 0.42623741555403005}\n",
        "{'¿viajas a kathmandu?': 0.7738733517336679, 'mi nombre es Siddhartha': 0.6061403622461706}\n",
        "```\n",
        "### sentence-transformers/paraphrase-multilingual-MiniLM-L12-v2\n",
        "```\n",
        "{'mi nombre es Siddhartha': 0.8272452145095122, '¿viajas a kathmandu?': 0.3649733153255812}\n",
        "{'mi nombre es Siddhartha': 0.7178573322843459, '¿viajas a kathmandu?': 0.3564871025492672}\n",
        "{'mi nombre es Siddhartha': 0.18826746285752372, '¿viajas a kathmandu?': 0.09154908535750317}\n",
        "{'¿viajas a kathmandu?': 0.6363508187533244, 'mi nombre es Siddhartha': 0.39406991726360485}\n",
        "{'mi nombre es Siddhartha': 0.6803541931364624, '¿viajas a kathmandu?': 0.4502551435140828}\n",
        "\n",
        "```\n",
        "### sentence-transformers/LaBSE\n",
        "```\n",
        "{'mi nombre es Siddhartha': 0.6354728190803506, '¿viajas a ktm?': 0.23906573450405832}\n",
        "{'mi nombre es Siddhartha': 0.6160448877909499, '¿viajas a ktm?': 0.24835359675519209}\n",
        "{'mi nombre es Siddhartha': 0.39253808642437293, '¿viajas a ktm?': 0.3015341341804172}\n",
        "{'¿viajas a ktm?': 0.37939374380564395, 'mi nombre es Siddhartha': 0.18720606199830758}\n",
        "{'mi nombre es Siddhartha': 0.5994405153781509, '¿viajas a ktm?': 0.4794528954346283}\n",
        "```"
      ]
    },
    {
      "cell_type": "code",
      "metadata": {
        "id": "Y8b2jRWn7blh"
      },
      "source": [
        "model_english = SentenceTransformer('sentence-transformers/paraphrase-mpnet-base-v2')"
      ],
      "execution_count": null,
      "outputs": []
    },
    {
      "cell_type": "code",
      "metadata": {
        "id": "VHmgNKGj-gns"
      },
      "source": [
        "eng_sentences = ['My name is Siddhartha','are you travelling to kathmandu?']"
      ],
      "execution_count": null,
      "outputs": []
    },
    {
      "cell_type": "code",
      "metadata": {
        "colab": {
          "base_uri": "https://localhost:8080/"
        },
        "id": "JBRui0Px-s9-",
        "outputId": "341c5231-0019-46f5-ed9b-bb41dd06ae5f"
      },
      "source": [
        "eng_sentence_embeddings = model.encode(eng_sentences)\n",
        "print(eng_sentence_embeddings)"
      ],
      "execution_count": null,
      "outputs": [
        {
          "output_type": "stream",
          "name": "stdout",
          "text": [
            "[[-0.15529953  0.2247352  -0.18982473 ... -0.42522377 -0.0560644\n",
            "   0.0518772 ]\n",
            " [-0.04078767  0.02976983  0.03084179 ...  0.06508949 -0.0194207\n",
            "  -0.01576419]]\n"
          ]
        }
      ]
    },
    {
      "cell_type": "code",
      "metadata": {
        "id": "TelOb2CZ-1vG"
      },
      "source": [
        "eng_query = ['I heard your name is siddhartha', 'They said you are Siddhartha', 'I love doing sports.', 'I am traveling to Kathmandu.', 'Siddhartha is traveling to Kathmandu.']"
      ],
      "execution_count": null,
      "outputs": []
    },
    {
      "cell_type": "code",
      "metadata": {
        "colab": {
          "base_uri": "https://localhost:8080/"
        },
        "id": "a5O2qIA4_BEP",
        "outputId": "047f5ce3-324d-444e-db53-a53ded6a4ac1"
      },
      "source": [
        "eng_query_embeddings = model.encode(eng_query)\n",
        "\n",
        "for query, query_embedding in zip(eng_query, eng_query_embeddings):\n",
        "    distances = scipy.spatial.distance.cdist([query_embedding], eng_sentence_embeddings, \"cosine\")[0]\n",
        "    results = zip(range(len(distances)), distances)\n",
        "    results = sorted(results, key=lambda x: x[1])\n",
        "    final_result = {}\n",
        "\n",
        "    for index, distance in results:\n",
        "        sentence = sentences[index].strip()\n",
        "        score = 1 - distance\n",
        "        final_result[sentence] = score\n",
        "    print(final_result)\n"
      ],
      "execution_count": null,
      "outputs": [
        {
          "output_type": "stream",
          "name": "stdout",
          "text": [
            "{'My name is Siddhartha': 0.8623217706801869, 'are you travelling to kathmandu?': 0.21876332412345478}\n",
            "{'My name is Siddhartha': 0.7244512404638395, 'are you travelling to kathmandu?': 0.2367132467468167}\n",
            "{'My name is Siddhartha': 0.07442215443829459, 'are you travelling to kathmandu?': 0.04576201694222404}\n",
            "{'are you travelling to kathmandu?': 0.797200831571926, 'My name is Siddhartha': 0.2884095232762802}\n",
            "{'are you travelling to kathmandu?': 0.6430520754040195, 'My name is Siddhartha': 0.5691724799092897}\n"
          ]
        }
      ]
    },
    {
      "cell_type": "markdown",
      "metadata": {
        "id": "_co5E5j8wF4p"
      },
      "source": [
        "### BEST MODELS:\n",
        "\n",
        "sentence-transformers/stsb-xlm-r-multilingual\n",
        "\n",
        "BETO cased(self-training)\n"
      ]
    },
    {
      "cell_type": "code",
      "metadata": {
        "id": "g7_LYOVF_PzP"
      },
      "source": [
        "sentence-transformers/stsb-xlm-r-multilingual"
      ],
      "execution_count": null,
      "outputs": []
    }
  ]
}